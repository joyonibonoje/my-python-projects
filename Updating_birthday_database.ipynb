{
 "cells": [
  {
   "cell_type": "code",
   "execution_count": null,
   "metadata": {},
   "outputs": [
    {
     "name": "stdout",
     "output_type": "stream",
     "text": [
      "Enter a name (blank to quit)\n",
      "Tim\n",
      "Dec 12 is the birthday of Tim\n",
      "Enter a name (blank to quit)\n",
      "Tayo\n",
      "I do not have birthday information for Tayo\n",
      "what is their birthday?\n",
      "May 16\n",
      "birthday database has been updated\n",
      "Enter a name (blank to quit)\n",
      "Tayo\n",
      "May 16 is the birthday of Tayo\n",
      "Enter a name (blank to quit)\n"
     ]
    }
   ],
   "source": [
    "birthdays = {'David': 'Apr 1', 'Tim': 'Dec 12', 'Shade': 'Mar 4'}\n",
    "\n",
    "\n",
    "while True:\n",
    "    print ('Enter a name (blank to quit)')\n",
    "    name = input()\n",
    "    if name == '':\n",
    "        break\n",
    "\n",
    "    if name in birthdays:\n",
    "        print (birthdays[name] + ' is the birthday of ' + name)\n",
    "\n",
    "    else:\n",
    "            print('I do not have birthday information for ' + name)\n",
    "            print('what is their birthday?')\n",
    "            bday = input ()\n",
    "            birthdays[name] = bday\n",
    "            print('birthday database has been updated')"
   ]
  },
  {
   "cell_type": "code",
   "execution_count": null,
   "metadata": {},
   "outputs": [],
   "source": []
  }
 ],
 "metadata": {
  "kernelspec": {
   "display_name": "Python 3",
   "language": "python",
   "name": "python3"
  },
  "language_info": {
   "codemirror_mode": {
    "name": "ipython",
    "version": 3
   },
   "file_extension": ".py",
   "mimetype": "text/x-python",
   "name": "python",
   "nbconvert_exporter": "python",
   "pygments_lexer": "ipython3",
   "version": "3.7.4"
  }
 },
 "nbformat": 4,
 "nbformat_minor": 2
}
